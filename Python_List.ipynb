{
  "nbformat": 4,
  "nbformat_minor": 0,
  "metadata": {
    "colab": {
      "provenance": []
    },
    "kernelspec": {
      "name": "python3",
      "display_name": "Python 3"
    },
    "language_info": {
      "name": "python"
    }
  },
  "cells": [
    {
      "cell_type": "markdown",
      "source": [
        "A Python list is an ordered collection of items that can hold different data types, such as integers, floats, strings, or even other lists. Lists are defined using square brackets [] and the elements are separated by commas.\n",
        "\n"
      ],
      "metadata": {
        "id": "YlzTkc0O_D4E"
      }
    },
    {
      "cell_type": "code",
      "execution_count": 2,
      "metadata": {
        "colab": {
          "base_uri": "https://localhost:8080/"
        },
        "id": "SUSfNvs9_CfE",
        "outputId": "0c78c8e9-bee9-4217-ae9e-978714c12f89"
      },
      "outputs": [
        {
          "output_type": "execute_result",
          "data": {
            "text/plain": [
              "[]"
            ]
          },
          "metadata": {},
          "execution_count": 2
        }
      ],
      "source": [
        "list_=[]  # empty list\n",
        "list_\n"
      ]
    },
    {
      "cell_type": "code",
      "source": [
        "list1=[\"Data\",\"Science\",23,45.2,[2,4,6,8],(2,3,45),{23,45,32,4},{\"name\":\"DSW\",\"source\":\"YT\"}]\n",
        "list1\n",
        " #      0           1      2  3    4      5        6        7                 8          # indexing\n",
        "# -8                -7        -6     -5       -4         -3         -2                  -1 # reverse indexing"
      ],
      "metadata": {
        "id": "IpQ8bDWUA85_"
      },
      "execution_count": null,
      "outputs": []
    },
    {
      "cell_type": "code",
      "source": [
        "print(len(list_))\n",
        "len(list1)"
      ],
      "metadata": {
        "id": "9rY6W4TACSY8"
      },
      "execution_count": null,
      "outputs": []
    },
    {
      "cell_type": "code",
      "source": [
        "list1[3:-1]           #slicing   [start (n) : end (n-1)]\n"
      ],
      "metadata": {
        "colab": {
          "base_uri": "https://localhost:8080/"
        },
        "id": "QpuFSeGxCoyV",
        "outputId": "843aa092-1df0-4426-98f2-25e45a22fd4e"
      },
      "execution_count": 20,
      "outputs": [
        {
          "output_type": "execute_result",
          "data": {
            "text/plain": [
              "[45.2, [2, 4, 6, 8], (2, 3, 45), {4, 23, 32, 45}]"
            ]
          },
          "metadata": {},
          "execution_count": 20
        }
      ]
    },
    {
      "cell_type": "code",
      "source": [
        "list1[::-1]  "
      ],
      "metadata": {
        "colab": {
          "base_uri": "https://localhost:8080/"
        },
        "id": "XGUHgfLSDvRD",
        "outputId": "9381b52c-9cd0-4bd4-9f20-3398583c5581"
      },
      "execution_count": 21,
      "outputs": [
        {
          "output_type": "execute_result",
          "data": {
            "text/plain": [
              "[{'name': 'DSW', 'source': 'YT'},\n",
              " {4, 23, 32, 45},\n",
              " (2, 3, 45),\n",
              " [2, 4, 6, 8],\n",
              " 45.2,\n",
              " 23,\n",
              " 'Science',\n",
              " 'Data']"
            ]
          },
          "metadata": {},
          "execution_count": 21
        }
      ]
    },
    {
      "cell_type": "code",
      "source": [
        "list2=[23,45,67,32,87,23]\n",
        "print(list2)\n",
        "list2.append(\"DSW\")\n",
        "print(list2)"
      ],
      "metadata": {
        "colab": {
          "base_uri": "https://localhost:8080/"
        },
        "id": "qeCxp82uD7Bc",
        "outputId": "7284bb1c-605c-4e90-e5f1-f455e984f071"
      },
      "execution_count": 26,
      "outputs": [
        {
          "output_type": "stream",
          "name": "stdout",
          "text": [
            "[23, 45, 67, 32, 87, 23]\n",
            "[23, 45, 67, 32, 87, 23, 'DSW']\n"
          ]
        }
      ]
    },
    {
      "cell_type": "code",
      "source": [
        "list2.remove(23)   # element "
      ],
      "metadata": {
        "id": "PdqOltBoEUdD"
      },
      "execution_count": 27,
      "outputs": []
    },
    {
      "cell_type": "code",
      "source": [
        "list2"
      ],
      "metadata": {
        "colab": {
          "base_uri": "https://localhost:8080/"
        },
        "id": "cLi9lX4MEbny",
        "outputId": "ca574ce9-5ac3-4e4c-def9-069395a6fa34"
      },
      "execution_count": 28,
      "outputs": [
        {
          "output_type": "execute_result",
          "data": {
            "text/plain": [
              "[45, 67, 32, 87, 23, 'DSW']"
            ]
          },
          "metadata": {},
          "execution_count": 28
        }
      ]
    },
    {
      "cell_type": "code",
      "source": [
        "list2.pop(4)    # index \n",
        "print(list2)\n"
      ],
      "metadata": {
        "colab": {
          "base_uri": "https://localhost:8080/"
        },
        "id": "VuaHWz6JEpwb",
        "outputId": "c050336d-aeb6-4d30-c12f-f39393ce9842"
      },
      "execution_count": 29,
      "outputs": [
        {
          "output_type": "stream",
          "name": "stdout",
          "text": [
            "[45, 67, 32, 87, 'DSW']\n"
          ]
        }
      ]
    },
    {
      "cell_type": "code",
      "source": [
        "list3=[12,34,56,32,68,34,132,132,56]\n",
        "print(list3)\n",
        "print(sorted(list3))   # tem change \n",
        "print(list3)"
      ],
      "metadata": {
        "colab": {
          "base_uri": "https://localhost:8080/"
        },
        "id": "V2vOr8p3E3O9",
        "outputId": "e38a02e2-cfd8-4eda-c848-98cc7ed48832"
      },
      "execution_count": 41,
      "outputs": [
        {
          "output_type": "stream",
          "name": "stdout",
          "text": [
            "[12, 34, 56, 32, 68, 34, 132, 132, 56]\n",
            "[12, 32, 34, 34, 56, 56, 68, 132, 132]\n",
            "[12, 34, 56, 32, 68, 34, 132, 132, 56]\n"
          ]
        }
      ]
    },
    {
      "cell_type": "code",
      "source": [
        "list3=[12,34,56,32,68,34,132,132,56]\n",
        "print(list3)\n",
        "list3.sort()   # per change \n",
        "print(list3)"
      ],
      "metadata": {
        "colab": {
          "base_uri": "https://localhost:8080/"
        },
        "id": "24VVGcEYFRt7",
        "outputId": "59c0df26-9c33-4613-8c0a-e8085e8b14ec"
      },
      "execution_count": 42,
      "outputs": [
        {
          "output_type": "stream",
          "name": "stdout",
          "text": [
            "[12, 34, 56, 32, 68, 34, 132, 132, 56]\n",
            "[12, 32, 34, 34, 56, 56, 68, 132, 132]\n"
          ]
        }
      ]
    },
    {
      "cell_type": "code",
      "source": [
        "list3=[12,34,56,32,68,34,132,132,56]\n",
        "print(max(list3))\n",
        "print(min(list3))\n",
        "print(sum(list3))\n",
        "print(len(list3))"
      ],
      "metadata": {
        "colab": {
          "base_uri": "https://localhost:8080/"
        },
        "id": "3frCX_JOG5y1",
        "outputId": "c2bba674-9fbb-414c-ad4f-6530584d3572"
      },
      "execution_count": 45,
      "outputs": [
        {
          "output_type": "stream",
          "name": "stdout",
          "text": [
            "132\n",
            "12\n",
            "556\n",
            "9\n"
          ]
        }
      ]
    },
    {
      "cell_type": "code",
      "source": [
        "list3=[12,34,56,32,68,34,132,132,56].extend([23,345,6,89056])  # to merge the 2 list \n",
        "list3"
      ],
      "metadata": {
        "id": "zljAYpQaHR5X"
      },
      "execution_count": 48,
      "outputs": []
    },
    {
      "cell_type": "code",
      "source": [
        "list3=[12,34,56,32,68,34,132,132,56]\n",
        "list3.count(132)"
      ],
      "metadata": {
        "colab": {
          "base_uri": "https://localhost:8080/"
        },
        "id": "g2rftNL0HoBp",
        "outputId": "7bde84c7-2b46-44c3-e2c9-97ceafd74b86"
      },
      "execution_count": 50,
      "outputs": [
        {
          "output_type": "execute_result",
          "data": {
            "text/plain": [
              "2"
            ]
          },
          "metadata": {},
          "execution_count": 50
        }
      ]
    },
    {
      "cell_type": "code",
      "source": [
        "list3=[12,34,56,32,68,34,132,132,56]\n",
        "list3.index(132)"
      ],
      "metadata": {
        "colab": {
          "base_uri": "https://localhost:8080/"
        },
        "id": "7scTwkZlIE7J",
        "outputId": "00844f16-af62-4477-f5c9-6b9ec925fbab"
      },
      "execution_count": 57,
      "outputs": [
        {
          "output_type": "execute_result",
          "data": {
            "text/plain": [
              "6"
            ]
          },
          "metadata": {},
          "execution_count": 57
        }
      ]
    },
    {
      "cell_type": "code",
      "source": [
        "list3.pop()\n",
        "list3"
      ],
      "metadata": {
        "colab": {
          "base_uri": "https://localhost:8080/"
        },
        "id": "MzZzCGKbIWhn",
        "outputId": "65cb2bdc-672f-4971-8b33-5c5a5147be8f"
      },
      "execution_count": 58,
      "outputs": [
        {
          "output_type": "execute_result",
          "data": {
            "text/plain": [
              "[12, 34, 56, 32, 68, 34, 132, 132]"
            ]
          },
          "metadata": {},
          "execution_count": 58
        }
      ]
    },
    {
      "cell_type": "markdown",
      "source": [
        "Here are some key features of Python lists:\n",
        "\n",
        "1. Mutable: Lists are mutable, meaning you can modify, add, or remove elements after creating the list.\n",
        "\n",
        "2. Ordered: The elements in a list are ordered and indexed, starting from 0 for the first element, 1 for the second, and so on. This allows for easy access and manipulation of specific elements.\n",
        "\n",
        "3. Dynamic Size: Lists can dynamically grow or shrink as you add or remove elements. You can change the size of a list during runtime.\n",
        "\n",
        "4. Flexible Data Types: Lists can hold items of different data types. You can mix integers, strings, floats, and other objects within the same list.\n",
        "\n"
      ],
      "metadata": {
        "id": "d4QqeQCU_M0m"
      }
    },
    {
      "cell_type": "code",
      "source": [],
      "metadata": {
        "id": "L_N4mWwfCk2l"
      },
      "execution_count": null,
      "outputs": []
    },
    {
      "cell_type": "markdown",
      "source": [
        "Common operations and methods associated with Python lists include:\n",
        "\n",
        "- Accessing Elements: You can access elements in a list using their index values. For example, list_name[0] will give you the first element.\n",
        "\n",
        "- Slicing: You can extract a portion of a list using slicing notation, such as list_name[start:end]. This returns a new list containing the selected elements.\n",
        "\n",
        "- Modifying Elements: Lists allow you to modify elements by assigning new values to specific indices.\n",
        "\n",
        "- Adding Elements: You can add elements to a list using the append() method to add at the end, or the insert() method to insert at a specific position.\n",
        "\n",
        "- Removing Elements: Elements can be removed using methods like remove() to remove a specific value, or del to delete an element at a particular index.\n",
        "\n",
        "- List Comprehension: Python offers list comprehension, a concise way to create new lists by performing operations on existing lists or iterables.\n",
        "\n",
        "Python lists are versatile and widely used in various programming tasks, from storing and manipulating data to implementing complex algorithms. Understanding how to work with lists is fundamental to effectively harnessing the power of Python."
      ],
      "metadata": {
        "id": "KzIgCbk__RUy"
      }
    }
  ]
}